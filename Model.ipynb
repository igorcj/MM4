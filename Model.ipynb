{
 "cells": [
  {
   "cell_type": "code",
   "execution_count": null,
   "metadata": {},
   "outputs": [],
   "source": [
    "!pip install parameter-sherpa pandas numpy"
   ]
  },
  {
   "cell_type": "code",
   "execution_count": 2,
   "metadata": {},
   "outputs": [],
   "source": [
    "%display typeset"
   ]
  },
  {
   "cell_type": "code",
   "execution_count": 41,
   "metadata": {
    "scrolled": true
   },
   "outputs": [
    {
     "data": {
      "text/html": [
       "<html><script type=\"math/tex; mode=display\">\\newcommand{\\Bold}[1]{\\mathbf{#1}}\\left(S, E, Q, I, A, H, R, \\Lambda, \\beta, \\chi, \\alpha, p, \\phi, \\delta, \\rho, \\mu, \\gamma\\right)</script></html>"
      ],
      "text/plain": [
       "(S, E, Q, I, A, H, R, Lambda, beta, chi, alpha, p, phi, delta, rho, mu, gamma)"
      ]
     },
     "execution_count": 41,
     "metadata": {},
     "output_type": "execute_result"
    }
   ],
   "source": [
    "var('S E Q I A H R Lambda beta chi alpha p phi delta rho mu gamma')"
   ]
  },
  {
   "cell_type": "code",
   "execution_count": 42,
   "metadata": {},
   "outputs": [],
   "source": [
    "Lambda = beta*(I+A)\n",
    "dsdt = -Lambda*(1-chi)*S\n",
    "dedt = Lambda*(1-chi)*S - alpha*E\n",
    "didt = (1-p)*alpha*E - (delta + phi)*I\n",
    "dadt = p*alpha*E - gamma*A\n",
    "dhdt = phi*I-(rho+mu)*H"
   ]
  },
  {
   "cell_type": "code",
   "execution_count": 47,
   "metadata": {},
   "outputs": [
    {
     "data": {
      "text/html": [
       "<html><script type=\"math/tex; mode=display\">\\newcommand{\\Bold}[1]{\\mathbf{#1}}\\left[\\left[S = r_{7}, E = 0, I = 0, A = 0, H = 0\\right]\\right]</script></html>"
      ],
      "text/plain": [
       "[[S == r7, E == 0, I == 0, A == 0, H == 0]]"
      ]
     },
     "execution_count": 47,
     "metadata": {},
     "output_type": "execute_result"
    }
   ],
   "source": [
    "solve([dsdt,dedt,didt,dadt,dhdt],[S,E,I,A,H])"
   ]
  },
  {
   "cell_type": "code",
   "execution_count": 48,
   "metadata": {},
   "outputs": [
    {
     "data": {
      "text/html": [
       "<html><script type=\"math/tex; mode=display\">\\newcommand{\\Bold}[1]{\\mathbf{#1}}\\left(\\begin{array}{rrrrr}\n",
       "{\\left(A + I\\right)} \\beta {\\left(\\chi - 1\\right)} & 0 & S \\beta {\\left(\\chi - 1\\right)} & S \\beta {\\left(\\chi - 1\\right)} & 0 \\\\\n",
       "-{\\left(A + I\\right)} \\beta {\\left(\\chi - 1\\right)} & -\\alpha & -S \\beta {\\left(\\chi - 1\\right)} & -S \\beta {\\left(\\chi - 1\\right)} & 0 \\\\\n",
       "0 & -\\alpha {\\left(p - 1\\right)} & -\\delta - \\phi & 0 & 0 \\\\\n",
       "0 & \\alpha p & 0 & -\\gamma & 0 \\\\\n",
       "0 & 0 & \\phi & 0 & -\\mu - \\rho\n",
       "\\end{array}\\right)</script></html>"
      ],
      "text/plain": [
       "[ (A + I)*beta*(chi - 1)                       0        S*beta*(chi - 1)        S*beta*(chi - 1)                       0]\n",
       "[-(A + I)*beta*(chi - 1)                  -alpha       -S*beta*(chi - 1)       -S*beta*(chi - 1)                       0]\n",
       "[                      0          -alpha*(p - 1)            -delta - phi                       0                       0]\n",
       "[                      0                 alpha*p                       0                  -gamma                       0]\n",
       "[                      0                       0                     phi                       0               -mu - rho]"
      ]
     },
     "execution_count": 48,
     "metadata": {},
     "output_type": "execute_result"
    }
   ],
   "source": [
    "jack=jacobian([dsdt,dedt,didt,dadt,dhdt],[S,E,I,A,H])\n",
    "jack"
   ]
  },
  {
   "cell_type": "code",
   "execution_count": 50,
   "metadata": {},
   "outputs": [
    {
     "data": {
      "text/html": [
       "<html><script type=\"math/tex; mode=display\">\\newcommand{\\Bold}[1]{\\mathbf{#1}}x^{5} + \\left(-A \\beta \\chi - I \\beta \\chi + A \\beta + I \\beta + \\alpha + \\delta + \\gamma + \\mu + \\phi + \\rho\\right) x^{4} + \\left(-A \\alpha \\beta \\chi - I \\alpha \\beta \\chi + S \\alpha \\beta \\chi - A \\beta \\chi \\delta - I \\beta \\chi \\delta - A \\beta \\chi \\gamma - I \\beta \\chi \\gamma - A \\beta \\chi \\mu - I \\beta \\chi \\mu - A \\beta \\chi \\phi - I \\beta \\chi \\phi - A \\beta \\chi \\rho - I \\beta \\chi \\rho + A \\alpha \\beta + I \\alpha \\beta - S \\alpha \\beta + A \\beta \\delta + I \\beta \\delta + A \\beta \\gamma + I \\beta \\gamma + A \\beta \\mu + I \\beta \\mu + A \\beta \\phi + I \\beta \\phi + A \\beta \\rho + I \\beta \\rho + \\alpha \\delta + \\alpha \\gamma + \\delta \\gamma + \\alpha \\mu + \\delta \\mu + \\gamma \\mu + \\alpha \\phi + \\gamma \\phi + \\mu \\phi + \\alpha \\rho + \\delta \\rho + \\gamma \\rho + \\phi \\rho\\right) x^{3} + \\left(S \\alpha \\beta \\chi \\delta p - S \\alpha \\beta \\chi \\gamma p + S \\alpha \\beta \\chi p \\phi - A \\alpha \\beta \\chi \\delta - I \\alpha \\beta \\chi \\delta - A \\alpha \\beta \\chi \\gamma - I \\alpha \\beta \\chi \\gamma + S \\alpha \\beta \\chi \\gamma - A \\beta \\chi \\delta \\gamma - I \\beta \\chi \\delta \\gamma - A \\alpha \\beta \\chi \\mu - I \\alpha \\beta \\chi \\mu + S \\alpha \\beta \\chi \\mu - A \\beta \\chi \\delta \\mu - I \\beta \\chi \\delta \\mu - A \\beta \\chi \\gamma \\mu - I \\beta \\chi \\gamma \\mu - S \\alpha \\beta \\delta p + S \\alpha \\beta \\gamma p - A \\alpha \\beta \\chi \\phi - I \\alpha \\beta \\chi \\phi - A \\beta \\chi \\gamma \\phi - I \\beta \\chi \\gamma \\phi - A \\beta \\chi \\mu \\phi - I \\beta \\chi \\mu \\phi - S \\alpha \\beta p \\phi - A \\alpha \\beta \\chi \\rho - I \\alpha \\beta \\chi \\rho + S \\alpha \\beta \\chi \\rho - A \\beta \\chi \\delta \\rho - I \\beta \\chi \\delta \\rho - A \\beta \\chi \\gamma \\rho - I \\beta \\chi \\gamma \\rho - A \\beta \\chi \\phi \\rho - I \\beta \\chi \\phi \\rho + A \\alpha \\beta \\delta + I \\alpha \\beta \\delta + A \\alpha \\beta \\gamma + I \\alpha \\beta \\gamma - S \\alpha \\beta \\gamma + A \\beta \\delta \\gamma + I \\beta \\delta \\gamma + A \\alpha \\beta \\mu + I \\alpha \\beta \\mu - S \\alpha \\beta \\mu + A \\beta \\delta \\mu + I \\beta \\delta \\mu + A \\beta \\gamma \\mu + I \\beta \\gamma \\mu + A \\alpha \\beta \\phi + I \\alpha \\beta \\phi + A \\beta \\gamma \\phi + I \\beta \\gamma \\phi + A \\beta \\mu \\phi + I \\beta \\mu \\phi + A \\alpha \\beta \\rho + I \\alpha \\beta \\rho - S \\alpha \\beta \\rho + A \\beta \\delta \\rho + I \\beta \\delta \\rho + A \\beta \\gamma \\rho + I \\beta \\gamma \\rho + A \\beta \\phi \\rho + I \\beta \\phi \\rho + \\alpha \\delta \\gamma + \\alpha \\delta \\mu + \\alpha \\gamma \\mu + \\delta \\gamma \\mu + \\alpha \\gamma \\phi + \\alpha \\mu \\phi + \\gamma \\mu \\phi + \\alpha \\delta \\rho + \\alpha \\gamma \\rho + \\delta \\gamma \\rho + \\alpha \\phi \\rho + \\gamma \\phi \\rho\\right) x^{2} + \\left(S \\alpha \\beta \\chi \\delta \\mu p - S \\alpha \\beta \\chi \\gamma \\mu p + S \\alpha \\beta \\chi \\mu p \\phi + S \\alpha \\beta \\chi \\delta p \\rho - S \\alpha \\beta \\chi \\gamma p \\rho + S \\alpha \\beta \\chi p \\phi \\rho - A \\alpha \\beta \\chi \\delta \\gamma - I \\alpha \\beta \\chi \\delta \\gamma - A \\alpha \\beta \\chi \\delta \\mu - I \\alpha \\beta \\chi \\delta \\mu - A \\alpha \\beta \\chi \\gamma \\mu - I \\alpha \\beta \\chi \\gamma \\mu + S \\alpha \\beta \\chi \\gamma \\mu - A \\beta \\chi \\delta \\gamma \\mu - I \\beta \\chi \\delta \\gamma \\mu - S \\alpha \\beta \\delta \\mu p + S \\alpha \\beta \\gamma \\mu p - A \\alpha \\beta \\chi \\gamma \\phi - I \\alpha \\beta \\chi \\gamma \\phi - A \\alpha \\beta \\chi \\mu \\phi - I \\alpha \\beta \\chi \\mu \\phi - A \\beta \\chi \\gamma \\mu \\phi - I \\beta \\chi \\gamma \\mu \\phi - S \\alpha \\beta \\mu p \\phi - A \\alpha \\beta \\chi \\delta \\rho - I \\alpha \\beta \\chi \\delta \\rho - A \\alpha \\beta \\chi \\gamma \\rho - I \\alpha \\beta \\chi \\gamma \\rho + S \\alpha \\beta \\chi \\gamma \\rho - A \\beta \\chi \\delta \\gamma \\rho - I \\beta \\chi \\delta \\gamma \\rho - S \\alpha \\beta \\delta p \\rho + S \\alpha \\beta \\gamma p \\rho - A \\alpha \\beta \\chi \\phi \\rho - I \\alpha \\beta \\chi \\phi \\rho - A \\beta \\chi \\gamma \\phi \\rho - I \\beta \\chi \\gamma \\phi \\rho - S \\alpha \\beta p \\phi \\rho + A \\alpha \\beta \\delta \\gamma + I \\alpha \\beta \\delta \\gamma + A \\alpha \\beta \\delta \\mu + I \\alpha \\beta \\delta \\mu + A \\alpha \\beta \\gamma \\mu + I \\alpha \\beta \\gamma \\mu - S \\alpha \\beta \\gamma \\mu + A \\beta \\delta \\gamma \\mu + I \\beta \\delta \\gamma \\mu + A \\alpha \\beta \\gamma \\phi + I \\alpha \\beta \\gamma \\phi + A \\alpha \\beta \\mu \\phi + I \\alpha \\beta \\mu \\phi + A \\beta \\gamma \\mu \\phi + I \\beta \\gamma \\mu \\phi + A \\alpha \\beta \\delta \\rho + I \\alpha \\beta \\delta \\rho + A \\alpha \\beta \\gamma \\rho + I \\alpha \\beta \\gamma \\rho - S \\alpha \\beta \\gamma \\rho + A \\beta \\delta \\gamma \\rho + I \\beta \\delta \\gamma \\rho + A \\alpha \\beta \\phi \\rho + I \\alpha \\beta \\phi \\rho + A \\beta \\gamma \\phi \\rho + I \\beta \\gamma \\phi \\rho + \\alpha \\delta \\gamma \\mu + \\alpha \\gamma \\mu \\phi + \\alpha \\delta \\gamma \\rho + \\alpha \\gamma \\phi \\rho\\right) x - A \\alpha \\beta \\chi \\delta \\gamma \\mu - I \\alpha \\beta \\chi \\delta \\gamma \\mu - A \\alpha \\beta \\chi \\gamma \\mu \\phi - I \\alpha \\beta \\chi \\gamma \\mu \\phi - A \\alpha \\beta \\chi \\delta \\gamma \\rho - I \\alpha \\beta \\chi \\delta \\gamma \\rho - A \\alpha \\beta \\chi \\gamma \\phi \\rho - I \\alpha \\beta \\chi \\gamma \\phi \\rho + A \\alpha \\beta \\delta \\gamma \\mu + I \\alpha \\beta \\delta \\gamma \\mu + A \\alpha \\beta \\gamma \\mu \\phi + I \\alpha \\beta \\gamma \\mu \\phi + A \\alpha \\beta \\delta \\gamma \\rho + I \\alpha \\beta \\delta \\gamma \\rho + A \\alpha \\beta \\gamma \\phi \\rho + I \\alpha \\beta \\gamma \\phi \\rho</script></html>"
      ],
      "text/plain": [
       "x^5 + (-A*beta*chi - I*beta*chi + A*beta + I*beta + alpha + delta + gamma + mu + phi + rho)*x^4 + (-A*alpha*beta*chi - I*alpha*beta*chi + S*alpha*beta*chi - A*beta*chi*delta - I*beta*chi*delta - A*beta*chi*gamma - I*beta*chi*gamma - A*beta*chi*mu - I*beta*chi*mu - A*beta*chi*phi - I*beta*chi*phi - A*beta*chi*rho - I*beta*chi*rho + A*alpha*beta + I*alpha*beta - S*alpha*beta + A*beta*delta + I*beta*delta + A*beta*gamma + I*beta*gamma + A*beta*mu + I*beta*mu + A*beta*phi + I*beta*phi + A*beta*rho + I*beta*rho + alpha*delta + alpha*gamma + delta*gamma + alpha*mu + delta*mu + gamma*mu + alpha*phi + gamma*phi + mu*phi + alpha*rho + delta*rho + gamma*rho + phi*rho)*x^3 + (S*alpha*beta*chi*delta*p - S*alpha*beta*chi*gamma*p + S*alpha*beta*chi*p*phi - A*alpha*beta*chi*delta - I*alpha*beta*chi*delta - A*alpha*beta*chi*gamma - I*alpha*beta*chi*gamma + S*alpha*beta*chi*gamma - A*beta*chi*delta*gamma - I*beta*chi*delta*gamma - A*alpha*beta*chi*mu - I*alpha*beta*chi*mu + S*alpha*beta*chi*mu - A*beta*chi*delta*mu - I*beta*chi*delta*mu - A*beta*chi*gamma*mu - I*beta*chi*gamma*mu - S*alpha*beta*delta*p + S*alpha*beta*gamma*p - A*alpha*beta*chi*phi - I*alpha*beta*chi*phi - A*beta*chi*gamma*phi - I*beta*chi*gamma*phi - A*beta*chi*mu*phi - I*beta*chi*mu*phi - S*alpha*beta*p*phi - A*alpha*beta*chi*rho - I*alpha*beta*chi*rho + S*alpha*beta*chi*rho - A*beta*chi*delta*rho - I*beta*chi*delta*rho - A*beta*chi*gamma*rho - I*beta*chi*gamma*rho - A*beta*chi*phi*rho - I*beta*chi*phi*rho + A*alpha*beta*delta + I*alpha*beta*delta + A*alpha*beta*gamma + I*alpha*beta*gamma - S*alpha*beta*gamma + A*beta*delta*gamma + I*beta*delta*gamma + A*alpha*beta*mu + I*alpha*beta*mu - S*alpha*beta*mu + A*beta*delta*mu + I*beta*delta*mu + A*beta*gamma*mu + I*beta*gamma*mu + A*alpha*beta*phi + I*alpha*beta*phi + A*beta*gamma*phi + I*beta*gamma*phi + A*beta*mu*phi + I*beta*mu*phi + A*alpha*beta*rho + I*alpha*beta*rho - S*alpha*beta*rho + A*beta*delta*rho + I*beta*delta*rho + A*beta*gamma*rho + I*beta*gamma*rho + A*beta*phi*rho + I*beta*phi*rho + alpha*delta*gamma + alpha*delta*mu + alpha*gamma*mu + delta*gamma*mu + alpha*gamma*phi + alpha*mu*phi + gamma*mu*phi + alpha*delta*rho + alpha*gamma*rho + delta*gamma*rho + alpha*phi*rho + gamma*phi*rho)*x^2 + (S*alpha*beta*chi*delta*mu*p - S*alpha*beta*chi*gamma*mu*p + S*alpha*beta*chi*mu*p*phi + S*alpha*beta*chi*delta*p*rho - S*alpha*beta*chi*gamma*p*rho + S*alpha*beta*chi*p*phi*rho - A*alpha*beta*chi*delta*gamma - I*alpha*beta*chi*delta*gamma - A*alpha*beta*chi*delta*mu - I*alpha*beta*chi*delta*mu - A*alpha*beta*chi*gamma*mu - I*alpha*beta*chi*gamma*mu + S*alpha*beta*chi*gamma*mu - A*beta*chi*delta*gamma*mu - I*beta*chi*delta*gamma*mu - S*alpha*beta*delta*mu*p + S*alpha*beta*gamma*mu*p - A*alpha*beta*chi*gamma*phi - I*alpha*beta*chi*gamma*phi - A*alpha*beta*chi*mu*phi - I*alpha*beta*chi*mu*phi - A*beta*chi*gamma*mu*phi - I*beta*chi*gamma*mu*phi - S*alpha*beta*mu*p*phi - A*alpha*beta*chi*delta*rho - I*alpha*beta*chi*delta*rho - A*alpha*beta*chi*gamma*rho - I*alpha*beta*chi*gamma*rho + S*alpha*beta*chi*gamma*rho - A*beta*chi*delta*gamma*rho - I*beta*chi*delta*gamma*rho - S*alpha*beta*delta*p*rho + S*alpha*beta*gamma*p*rho - A*alpha*beta*chi*phi*rho - I*alpha*beta*chi*phi*rho - A*beta*chi*gamma*phi*rho - I*beta*chi*gamma*phi*rho - S*alpha*beta*p*phi*rho + A*alpha*beta*delta*gamma + I*alpha*beta*delta*gamma + A*alpha*beta*delta*mu + I*alpha*beta*delta*mu + A*alpha*beta*gamma*mu + I*alpha*beta*gamma*mu - S*alpha*beta*gamma*mu + A*beta*delta*gamma*mu + I*beta*delta*gamma*mu + A*alpha*beta*gamma*phi + I*alpha*beta*gamma*phi + A*alpha*beta*mu*phi + I*alpha*beta*mu*phi + A*beta*gamma*mu*phi + I*beta*gamma*mu*phi + A*alpha*beta*delta*rho + I*alpha*beta*delta*rho + A*alpha*beta*gamma*rho + I*alpha*beta*gamma*rho - S*alpha*beta*gamma*rho + A*beta*delta*gamma*rho + I*beta*delta*gamma*rho + A*alpha*beta*phi*rho + I*alpha*beta*phi*rho + A*beta*gamma*phi*rho + I*beta*gamma*phi*rho + alpha*delta*gamma*mu + alpha*gamma*mu*phi + alpha*delta*gamma*rho + alpha*gamma*phi*rho)*x - A*alpha*beta*chi*delta*gamma*mu - I*alpha*beta*chi*delta*gamma*mu - A*alpha*beta*chi*gamma*mu*phi - I*alpha*beta*chi*gamma*mu*phi - A*alpha*beta*chi*delta*gamma*rho - I*alpha*beta*chi*delta*gamma*rho - A*alpha*beta*chi*gamma*phi*rho - I*alpha*beta*chi*gamma*phi*rho + A*alpha*beta*delta*gamma*mu + I*alpha*beta*delta*gamma*mu + A*alpha*beta*gamma*mu*phi + I*alpha*beta*gamma*mu*phi + A*alpha*beta*delta*gamma*rho + I*alpha*beta*delta*gamma*rho + A*alpha*beta*gamma*phi*rho + I*alpha*beta*gamma*phi*rho"
      ]
     },
     "execution_count": 50,
     "metadata": {},
     "output_type": "execute_result"
    }
   ],
   "source": [
    "cp = jack.characteristic_polynomial()\n",
    "cp"
   ]
  },
  {
   "cell_type": "code",
   "execution_count": null,
   "metadata": {},
   "outputs": [],
   "source": [
    "jack.eigenvalues()"
   ]
  },
  {
   "cell_type": "markdown",
   "metadata": {},
   "source": [
    "## R0"
   ]
  },
  {
   "cell_type": "code",
   "execution_count": 69,
   "metadata": {},
   "outputs": [
    {
     "data": {
      "text/html": [
       "<html><script type=\"math/tex; mode=display\">\\newcommand{\\Bold}[1]{\\mathbf{#1}}\\left(\\begin{array}{r}\n",
       "-{\\left(A + I\\right)} S \\beta {\\left(\\chi - 1\\right)} \\\\\n",
       "0 \\\\\n",
       "0\n",
       "\\end{array}\\right)</script></html>"
      ],
      "text/plain": [
       "[-(A + I)*S*beta*(chi - 1)]\n",
       "[                        0]\n",
       "[                        0]"
      ]
     },
     "execution_count": 69,
     "metadata": {},
     "output_type": "execute_result"
    }
   ],
   "source": [
    "F_cal = matrix([[Lambda*(1-chi)*S],[0],[0]])\n",
    "F_cal"
   ]
  },
  {
   "cell_type": "code",
   "execution_count": 70,
   "metadata": {},
   "outputs": [
    {
     "data": {
      "text/html": [
       "<html><script type=\"math/tex; mode=display\">\\newcommand{\\Bold}[1]{\\mathbf{#1}}\\left(\\begin{array}{r}\n",
       "E \\alpha \\\\\n",
       "I \\delta \\\\\n",
       "A \\delta\n",
       "\\end{array}\\right)</script></html>"
      ],
      "text/plain": [
       "[E*alpha]\n",
       "[I*delta]\n",
       "[A*delta]"
      ]
     },
     "execution_count": 70,
     "metadata": {},
     "output_type": "execute_result"
    }
   ],
   "source": [
    "V_cal_neg = matrix([[alpha*E],[delta*I],[delta*A]])\n",
    "V_cal_neg"
   ]
  },
  {
   "cell_type": "code",
   "execution_count": 71,
   "metadata": {},
   "outputs": [
    {
     "data": {
      "text/html": [
       "<html><script type=\"math/tex; mode=display\">\\newcommand{\\Bold}[1]{\\mathbf{#1}}\\left(\\begin{array}{r}\n",
       "0 \\\\\n",
       "-E \\alpha {\\left(p - 1\\right)} \\\\\n",
       "E \\alpha p\n",
       "\\end{array}\\right)</script></html>"
      ],
      "text/plain": [
       "[               0]\n",
       "[-E*alpha*(p - 1)]\n",
       "[       E*alpha*p]"
      ]
     },
     "execution_count": 71,
     "metadata": {},
     "output_type": "execute_result"
    }
   ],
   "source": [
    "V_cal_pos = matrix([[0],[(1-p)*alpha*E],[p*alpha*E]])\n",
    "V_cal_pos"
   ]
  },
  {
   "cell_type": "code",
   "execution_count": 72,
   "metadata": {},
   "outputs": [
    {
     "data": {
      "text/html": [
       "<html><script type=\"math/tex; mode=display\">\\newcommand{\\Bold}[1]{\\mathbf{#1}}\\left(\\begin{array}{r}\n",
       "E \\alpha \\\\\n",
       "E \\alpha {\\left(p - 1\\right)} + I \\delta \\\\\n",
       "-E \\alpha p + A \\delta\n",
       "\\end{array}\\right)</script></html>"
      ],
      "text/plain": [
       "[                  E*alpha]\n",
       "[E*alpha*(p - 1) + I*delta]\n",
       "[     -E*alpha*p + A*delta]"
      ]
     },
     "execution_count": 72,
     "metadata": {},
     "output_type": "execute_result"
    }
   ],
   "source": [
    "V_cal = V_cal_neg-V_cal_pos\n",
    "V_cal"
   ]
  },
  {
   "cell_type": "code",
   "execution_count": 73,
   "metadata": {},
   "outputs": [
    {
     "data": {
      "text/html": [
       "<html><script type=\"math/tex; mode=display\">\\newcommand{\\Bold}[1]{\\mathbf{#1}}\\left(\\begin{array}{rrr}\n",
       "0 & -\\beta {\\left(\\chi - 1\\right)} & -\\beta {\\left(\\chi - 1\\right)} \\\\\n",
       "0 & 0 & 0 \\\\\n",
       "0 & 0 & 0\n",
       "\\end{array}\\right)</script></html>"
      ],
      "text/plain": [
       "[              0 -beta*(chi - 1) -beta*(chi - 1)]\n",
       "[              0               0               0]\n",
       "[              0               0               0]"
      ]
     },
     "execution_count": 73,
     "metadata": {},
     "output_type": "execute_result"
    }
   ],
   "source": [
    "F = jacobian(F_cal(S=1),[E,I,A])\n",
    "F"
   ]
  },
  {
   "cell_type": "code",
   "execution_count": 74,
   "metadata": {},
   "outputs": [
    {
     "data": {
      "text/html": [
       "<html><script type=\"math/tex; mode=display\">\\newcommand{\\Bold}[1]{\\mathbf{#1}}\\left(\\begin{array}{rrr}\n",
       "\\alpha & 0 & 0 \\\\\n",
       "\\alpha {\\left(p - 1\\right)} & \\delta & 0 \\\\\n",
       "-\\alpha p & 0 & \\delta\n",
       "\\end{array}\\right)</script></html>"
      ],
      "text/plain": [
       "[        alpha             0             0]\n",
       "[alpha*(p - 1)         delta             0]\n",
       "[     -alpha*p             0         delta]"
      ]
     },
     "execution_count": 74,
     "metadata": {},
     "output_type": "execute_result"
    }
   ],
   "source": [
    "V = jacobian(V_cal(S=1),[E,I,A])\n",
    "V"
   ]
  },
  {
   "cell_type": "code",
   "execution_count": 76,
   "metadata": {},
   "outputs": [
    {
     "data": {
      "text/html": [
       "<html><script type=\"math/tex; mode=display\">\\newcommand{\\Bold}[1]{\\mathbf{#1}}\\left(\\begin{array}{rrr}\n",
       "-\\frac{\\beta \\chi - \\beta}{\\delta} & -\\frac{\\beta \\chi - \\beta}{\\delta} & -\\frac{\\beta \\chi - \\beta}{\\delta} \\\\\n",
       "0 & 0 & 0 \\\\\n",
       "0 & 0 & 0\n",
       "\\end{array}\\right)</script></html>"
      ],
      "text/plain": [
       "[-(beta*chi - beta)/delta -(beta*chi - beta)/delta -(beta*chi - beta)/delta]\n",
       "[                       0                        0                        0]\n",
       "[                       0                        0                        0]"
      ]
     },
     "execution_count": 76,
     "metadata": {},
     "output_type": "execute_result"
    }
   ],
   "source": [
    "M = F*V.inverse()\n",
    "M=M.simplify_full()\n",
    "M"
   ]
  },
  {
   "cell_type": "code",
   "execution_count": 77,
   "metadata": {},
   "outputs": [
    {
     "data": {
      "text/html": [
       "<html><script type=\"math/tex; mode=display\">\\newcommand{\\Bold}[1]{\\mathbf{#1}}\\left[-\\frac{\\beta \\chi - \\beta}{\\delta}, 0, 0\\right]</script></html>"
      ],
      "text/plain": [
       "[-(beta*chi - beta)/delta, 0, 0]"
      ]
     },
     "execution_count": 77,
     "metadata": {},
     "output_type": "execute_result"
    }
   ],
   "source": [
    "M.eigenvalues()"
   ]
  },
  {
   "cell_type": "code",
   "execution_count": 79,
   "metadata": {},
   "outputs": [
    {
     "data": {
      "text/html": [
       "<html><script type=\"math/tex; mode=display\">\\newcommand{\\Bold}[1]{\\mathbf{#1}}-\\frac{\\beta \\chi - \\beta}{\\delta}</script></html>"
      ],
      "text/plain": [
       "-(beta*chi - beta)/delta"
      ]
     },
     "execution_count": 79,
     "metadata": {},
     "output_type": "execute_result"
    }
   ],
   "source": [
    "R0=M[0,0].simplify_full()\n",
    "R0"
   ]
  },
  {
   "cell_type": "code",
   "execution_count": 80,
   "metadata": {},
   "outputs": [
    {
     "data": {
      "text/html": [
       "<html><script type=\"math/tex; mode=display\">\\newcommand{\\Bold}[1]{\\mathbf{#1}}\\left(\\beta, \\chi, \\delta\\right)</script></html>"
      ],
      "text/plain": [
       "(beta, chi, delta)"
      ]
     },
     "execution_count": 80,
     "metadata": {},
     "output_type": "execute_result"
    }
   ],
   "source": [
    "R0.variables()"
   ]
  },
  {
   "cell_type": "code",
   "execution_count": 81,
   "metadata": {},
   "outputs": [
    {
     "data": {
      "text/html": [
       "<script type=\"math/tex\">R_t=</script>"
      ],
      "text/plain": [
       "<script type=\"math/tex\">R_t=</script>"
      ]
     },
     "metadata": {},
     "output_type": "display_data"
    },
    {
     "data": {
      "text/html": [
       "<html><script type=\"math/tex; mode=display\">\\newcommand{\\Bold}[1]{\\mathbf{#1}}\\mathrm{None}</script></html>"
      ],
      "text/plain": [
       "None"
      ]
     },
     "metadata": {},
     "output_type": "display_data"
    },
    {
     "data": {
      "text/html": [
       "<html><script type=\"math/tex; mode=display\">\\newcommand{\\Bold}[1]{\\mathbf{#1}}\\frac{S \\beta {\\left(\\chi - 1\\right)} {\\left(p - 1\\right)}}{\\delta} - \\frac{S \\beta {\\left(\\chi - 1\\right)} p}{\\delta}</script></html>"
      ],
      "text/plain": [
       "S*beta*(chi - 1)*(p - 1)/delta - S*beta*(chi - 1)*p/delta"
      ]
     },
     "execution_count": 81,
     "metadata": {},
     "output_type": "execute_result"
    }
   ],
   "source": [
    "Ft = jacobian(F_cal,[E,I,A])\n",
    "Vt = jacobian(V_cal,[E,I,A])\n",
    "Mt = Ft*Vt.inverse()\n",
    "show(pretty_print(html('$R_t=$')))\n",
    "Rt = Mt[0,0]\n",
    "Rt"
   ]
  },
  {
   "cell_type": "code",
   "execution_count": 83,
   "metadata": {},
   "outputs": [
    {
     "data": {
      "text/html": [
       "<html><script type=\"math/tex; mode=display\">\\newcommand{\\Bold}[1]{\\mathbf{#1}}\\left(S, \\beta, \\chi, \\delta, p\\right)</script></html>"
      ],
      "text/plain": [
       "(S, beta, chi, delta, p)"
      ]
     },
     "execution_count": 83,
     "metadata": {},
     "output_type": "execute_result"
    }
   ],
   "source": [
    "Rt.variables()"
   ]
  },
  {
   "cell_type": "code",
   "execution_count": 82,
   "metadata": {},
   "outputs": [
    {
     "data": {
      "text/html": [
       "<html><script type=\"math/tex; mode=display\">\\newcommand{\\Bold}[1]{\\mathbf{#1}}0.0857142857142856</script></html>"
      ],
      "text/plain": [
       "0.0857142857142856"
      ]
     },
     "execution_count": 82,
     "metadata": {},
     "output_type": "execute_result"
    }
   ],
   "source": [
    "R0(beta=0.6,chi=0.9,delta=0.7)"
   ]
  },
  {
   "cell_type": "code",
   "execution_count": 84,
   "metadata": {},
   "outputs": [
    {
     "data": {
      "image/png": "[encoded data removed]",
      "text/plain": [
       "Graphics object consisting of 1 graphics primitive"
      ]
     },
     "metadata": {},
     "output_type": "display_data"
    }
   ],
   "source": [
    "P = plot(Rt(chi=0.9,delta=0.7,beta=0.6, p=0.5),(S,0,1))\n",
    "P.show(axes_labels=['S(t)','$R_t$'], gridlines=True)"
   ]
  },
  {
   "cell_type": "markdown",
   "metadata": {},
   "source": [
    "## Section"
   ]
  },
  {
   "cell_type": "code",
   "execution_count": 85,
   "metadata": {},
   "outputs": [],
   "source": [
    "import numpy as np\n",
    "import pandas as pd\n",
    "%display typeset"
   ]
  },
  {
   "cell_type": "code",
   "execution_count": 86,
   "metadata": {},
   "outputs": [
    {
     "data": {
      "image/png": "[encoded data removed]",
      "text/plain": [
       "Graphics object consisting of 1 graphics primitive"
      ]
     },
     "execution_count": 86,
     "metadata": {},
     "output_type": "execute_result"
    }
   ],
   "source": [
    "var(\"T Q R\")\n",
    "Q = 60\n",
    "R = 0.04\n",
    "eq = ((1 + np.tanh((T - Q)/4)) / 2) * ((T - Q) * -R + 1)\n",
    "plot(eq, (T,1,300))"
   ]
  },
  {
   "cell_type": "code",
   "execution_count": 23,
   "metadata": {},
   "outputs": [],
   "source": [
    "def model(t, y, params):\n",
    "    S, E, I, A, H, R, D, C = y\n",
    "    chi, phi, beta, rho, delta, gamma, alpha, mu, p, q, r = params\n",
    "    lamb = beta * (I + A)\n",
    "    \n",
    "    chi *= ((1 + np.tanh((t - q)/4)) / 2) * ((t - q) * -r + 1)\n",
    "    if (chi < 0):\n",
    "        chi = 0\n",
    "    \n",
    "    return [\n",
    "        -lamb * ((1 - chi) * S),                   # 0 dS/dt\n",
    "        lamb * ((1 - chi) * S) - alpha * E,        # 1 dE/dt\n",
    "        (1 - p) * alpha * E - delta * I - phi * I, # 2 dI/dt\n",
    "        p * alpha * E - gamma * A,                 # 3 dA/dt\n",
    "        phi * I - (rho + mu) * H,                  # 4 dH/dt\n",
    "        delta * I + rho * H + gamma * A,           # 5 dR/dt\n",
    "        phi * I,                                   # 6 Hospit. acumuladas\n",
    "        mu * H,                                    # 7 Morte acumuladas\n",
    "    ]"
   ]
  },
  {
   "cell_type": "code",
   "execution_count": 24,
   "metadata": {},
   "outputs": [],
   "source": [
    "Total_Pop = 37590000\n",
    "\n",
    "chi   = 0.9\n",
    "phi   = 0.02\n",
    "beta  = 0.6\n",
    "rho   = 0.65\n",
    "delta = 0.7\n",
    "gamma = 0.03\n",
    "alpha = 0.2\n",
    "mu    = 0.05\n",
    "p     = 0.5\n",
    "q     = 50\n",
    "r     = 185"
   ]
  },
  {
   "cell_type": "code",
   "execution_count": 25,
   "metadata": {},
   "outputs": [],
   "source": [
    "O = ode_solver()\n",
    "O.function = model\n",
    "O.algorithm = 'rk8pd'\n",
    "inits = [.99, 0, 1e-3, 0, 0, 0, 0, 0]\n",
    "tspan = [0, 300]\n",
    "O.ode_solve(tspan, inits, num_points=300, params=[chi,phi,beta,rho,delta,gamma,alpha,mu,p,q,r])"
   ]
  },
  {
   "cell_type": "code",
   "execution_count": 26,
   "metadata": {},
   "outputs": [],
   "source": [
    "def get_sim_array(sol):\n",
    "    sim = np.array([y for t,y in sol])\n",
    "    return sim"
   ]
  },
  {
   "cell_type": "code",
   "execution_count": 27,
   "metadata": {},
   "outputs": [
    {
     "data": {
      "image/png": "[encoded data removed]",
      "text/plain": [
       "Graphics object consisting of 1 graphics primitive"
      ]
     },
     "metadata": {},
     "output_type": "display_data"
    }
   ],
   "source": [
    "def plot_I(sol):\n",
    "    sim = get_sim_array(sol)*Total_Pop\n",
    "    dif = np.diff(sim[:,6]) + [0]\n",
    "    P = list_plot(dif,color='red',legend_label='H')\n",
    "    #P += list_plot(sim[:,2],color='blue',legend_label='I')\n",
    "    show(P)\n",
    "\n",
    "plot_I(O.solution)"
   ]
  },
  {
   "cell_type": "code",
   "execution_count": 28,
   "metadata": {},
   "outputs": [
    {
     "data": {
      "image/png": "[encoded data removed]",
      "text/plain": [
       "Graphics object consisting of 8 graphics primitives"
      ]
     },
     "metadata": {},
     "output_type": "display_data"
    }
   ],
   "source": [
    "#eq = ((1 + np.tanh((T - q)/4)) / 2) * ((T - q) * r + 1)\n",
    "\n",
    "def plot_sol(sol):\n",
    "    sim = get_sim_array(sol)*Total_Pop\n",
    "    P = list_plot(sim[:,0],legend_label='S')\n",
    "    colors = ['blue','red','pink','green','yellow','orange','black','purple']\n",
    "    for i,var in enumerate(['E','I','A','H','R','C','D']):\n",
    "        P += list_plot(sim[:,i+1],color=colors[i+1],legend_label=var)\n",
    "    \n",
    "    show(P)\n",
    "\n",
    "plot_sol(O.solution)"
   ]
  },
  {
   "cell_type": "markdown",
   "metadata": {},
   "source": [
    "***"
   ]
  },
  {
   "cell_type": "code",
   "execution_count": 29,
   "metadata": {},
   "outputs": [
    {
     "ename": "ModuleNotFoundError",
     "evalue": "No module named 'sherpa'",
     "output_type": "error",
     "traceback": [
      "\u001b[0;31m---------------------------------------------------------------------------\u001b[0m",
      "\u001b[0;31mModuleNotFoundError\u001b[0m                       Traceback (most recent call last)",
      "\u001b[0;32m<ipython-input-29-61b3f0a6bb64>\u001b[0m in \u001b[0;36m<module>\u001b[0;34m()\u001b[0m\n\u001b[0;32m----> 1\u001b[0;31m \u001b[0;32mimport\u001b[0m \u001b[0msherpa\u001b[0m\u001b[0;34m\u001b[0m\u001b[0;34m\u001b[0m\u001b[0m\n\u001b[0m",
      "\u001b[0;31mModuleNotFoundError\u001b[0m: No module named 'sherpa'"
     ]
    }
   ],
   "source": [
    "import sherpa"
   ]
  },
  {
   "cell_type": "code",
   "execution_count": 30,
   "metadata": {},
   "outputs": [
    {
     "data": {
      "text/html": [
       "<table border=\"1\" class=\"dataframe\">\n",
       "  <thead>\n",
       "    <tr style=\"text-align: right;\">\n",
       "      <th></th>\n",
       "      <th>cases</th>\n",
       "      <th>deaths</th>\n",
       "      <th>mov</th>\n",
       "    </tr>\n",
       "    <tr>\n",
       "      <th>date</th>\n",
       "      <th></th>\n",
       "      <th></th>\n",
       "      <th></th>\n",
       "    </tr>\n",
       "  </thead>\n",
       "  <tbody>\n",
       "    <tr>\n",
       "      <th>2020-11-15</th>\n",
       "      <td>2567.166667</td>\n",
       "      <td>48.5</td>\n",
       "      <td>16.339835</td>\n",
       "    </tr>\n",
       "    <tr>\n",
       "      <th>2020-11-16</th>\n",
       "      <td>2539.600000</td>\n",
       "      <td>51.2</td>\n",
       "      <td>16.110790</td>\n",
       "    </tr>\n",
       "    <tr>\n",
       "      <th>2020-11-17</th>\n",
       "      <td>2616.750000</td>\n",
       "      <td>55.0</td>\n",
       "      <td>15.884496</td>\n",
       "    </tr>\n",
       "    <tr>\n",
       "      <th>2020-11-18</th>\n",
       "      <td>2623.666667</td>\n",
       "      <td>51.0</td>\n",
       "      <td>15.695077</td>\n",
       "    </tr>\n",
       "    <tr>\n",
       "      <th>2020-11-19</th>\n",
       "      <td>2727.000000</td>\n",
       "      <td>45.5</td>\n",
       "      <td>15.552320</td>\n",
       "    </tr>\n",
       "  </tbody>\n",
       "</table>"
      ],
      "text/plain": [
       "<table border=\"1\" class=\"dataframe\">\n",
       "  <thead>\n",
       "    <tr style=\"text-align: right;\">\n",
       "      <th></th>\n",
       "      <th>cases</th>\n",
       "      <th>deaths</th>\n",
       "      <th>mov</th>\n",
       "    </tr>\n",
       "    <tr>\n",
       "      <th>date</th>\n",
       "      <th></th>\n",
       "      <th></th>\n",
       "      <th></th>\n",
       "    </tr>\n",
       "  </thead>\n",
       "  <tbody>\n",
       "    <tr>\n",
       "      <th>2020-11-15</th>\n",
       "      <td>2567.166667</td>\n",
       "      <td>48.5</td>\n",
       "      <td>16.339835</td>\n",
       "    </tr>\n",
       "    <tr>\n",
       "      <th>2020-11-16</th>\n",
       "      <td>2539.600000</td>\n",
       "      <td>51.2</td>\n",
       "      <td>16.110790</td>\n",
       "    </tr>\n",
       "    <tr>\n",
       "      <th>2020-11-17</th>\n",
       "      <td>2616.750000</td>\n",
       "      <td>55.0</td>\n",
       "      <td>15.884496</td>\n",
       "    </tr>\n",
       "    <tr>\n",
       "      <th>2020-11-18</th>\n",
       "      <td>2623.666667</td>\n",
       "      <td>51.0</td>\n",
       "      <td>15.695077</td>\n",
       "    </tr>\n",
       "    <tr>\n",
       "      <th>2020-11-19</th>\n",
       "      <td>2727.000000</td>\n",
       "      <td>45.5</td>\n",
       "      <td>15.552320</td>\n",
       "    </tr>\n",
       "  </tbody>\n",
       "</table>"
      ]
     },
     "execution_count": 30,
     "metadata": {},
     "output_type": "execute_result"
    }
   ],
   "source": [
    "popCA = 14810000\n",
    "dfCA = pd.read_pickle(\"data.pkl\")\n",
    "ld = len(dfCA)\n",
    "html(dfCA.tail().to_html())"
   ]
  },
  {
   "cell_type": "code",
   "execution_count": 31,
   "metadata": {},
   "outputs": [
    {
     "data": {
      "image/png": "[encoded data removed]",
      "text/plain": [
       "Graphics object consisting of 3 graphics primitives"
      ]
     },
     "metadata": {},
     "output_type": "display_data"
    }
   ],
   "source": [
    "a = list_plot(dfCA[\"cases\"],     color='blue',  legend_label=\"cases\")\n",
    "b = list_plot(dfCA[\"deaths\"]*10, color='red',   legend_label=\"deaths\")\n",
    "c = list_plot(dfCA[\"mov\"]*20,    color='green', legend_label=\"mov\")\n",
    "show(a+b+c)"
   ]
  },
  {
   "cell_type": "code",
   "execution_count": 32,
   "metadata": {},
   "outputs": [
    {
     "ename": "NameError",
     "evalue": "name 'sherpa' is not defined",
     "output_type": "error",
     "traceback": [
      "\u001b[0;31m---------------------------------------------------------------------------\u001b[0m",
      "\u001b[0;31mNameError\u001b[0m                                 Traceback (most recent call last)",
      "\u001b[0;32m<ipython-input-32-614bfbc24e2f>\u001b[0m in \u001b[0;36m<module>\u001b[0;34m()\u001b[0m\n\u001b[1;32m      3\u001b[0m \u001b[0;34m\u001b[0m\u001b[0m\n\u001b[1;32m      4\u001b[0m parameters = [\n\u001b[0;32m----> 5\u001b[0;31m     \u001b[0msherpa\u001b[0m\u001b[0;34m.\u001b[0m\u001b[0mContinuous\u001b[0m\u001b[0;34m(\u001b[0m\u001b[0mname\u001b[0m\u001b[0;34m=\u001b[0m\u001b[0;34m'chi'\u001b[0m\u001b[0;34m,\u001b[0m  \u001b[0mrange\u001b[0m\u001b[0;34m=\u001b[0m\u001b[0;34m[\u001b[0m\u001b[0mInteger\u001b[0m\u001b[0;34m(\u001b[0m\u001b[0;36m0\u001b[0m\u001b[0;34m)\u001b[0m\u001b[0;34m,\u001b[0m\u001b[0mRealNumber\u001b[0m\u001b[0;34m(\u001b[0m\u001b[0;34m'.7'\u001b[0m\u001b[0;34m)\u001b[0m\u001b[0;34m]\u001b[0m\u001b[0;34m)\u001b[0m\u001b[0;34m,\u001b[0m\u001b[0;34m\u001b[0m\u001b[0;34m\u001b[0m\u001b[0m\n\u001b[0m\u001b[1;32m      6\u001b[0m     \u001b[0msherpa\u001b[0m\u001b[0;34m.\u001b[0m\u001b[0mContinuous\u001b[0m\u001b[0;34m(\u001b[0m\u001b[0mname\u001b[0m\u001b[0;34m=\u001b[0m\u001b[0;34m'phi'\u001b[0m\u001b[0;34m,\u001b[0m  \u001b[0mrange\u001b[0m\u001b[0;34m=\u001b[0m\u001b[0;34m[\u001b[0m\u001b[0mInteger\u001b[0m\u001b[0;34m(\u001b[0m\u001b[0;36m0\u001b[0m\u001b[0;34m)\u001b[0m\u001b[0;34m,\u001b[0m\u001b[0mInteger\u001b[0m\u001b[0;34m(\u001b[0m\u001b[0;36m1\u001b[0m\u001b[0;34m)\u001b[0m\u001b[0;34m]\u001b[0m\u001b[0;34m)\u001b[0m\u001b[0;34m,\u001b[0m\u001b[0;34m\u001b[0m\u001b[0;34m\u001b[0m\u001b[0m\n\u001b[1;32m      7\u001b[0m     \u001b[0msherpa\u001b[0m\u001b[0;34m.\u001b[0m\u001b[0mContinuous\u001b[0m\u001b[0;34m(\u001b[0m\u001b[0mname\u001b[0m\u001b[0;34m=\u001b[0m\u001b[0;34m'beta'\u001b[0m\u001b[0;34m,\u001b[0m \u001b[0mrange\u001b[0m\u001b[0;34m=\u001b[0m\u001b[0;34m[\u001b[0m\u001b[0mRealNumber\u001b[0m\u001b[0;34m(\u001b[0m\u001b[0;34m'0.1'\u001b[0m\u001b[0;34m)\u001b[0m\u001b[0;34m,\u001b[0m\u001b[0mInteger\u001b[0m\u001b[0;34m(\u001b[0m\u001b[0;36m2\u001b[0m\u001b[0;34m)\u001b[0m\u001b[0;34m]\u001b[0m\u001b[0;34m)\u001b[0m\u001b[0;34m,\u001b[0m\u001b[0;34m\u001b[0m\u001b[0;34m\u001b[0m\u001b[0m\n",
      "\u001b[0;31mNameError\u001b[0m: name 'sherpa' is not defined"
     ]
    }
   ],
   "source": [
    "# S, E, I, A, H, R, D, C = y\n",
    "# chi, phi, beta, rho, delta, gamma, alpha, mu, p, q, r = params\n",
    "\n",
    "parameters = [\n",
    "    sherpa.Continuous(name='chi',  range=[0,.7]),\n",
    "    sherpa.Continuous(name='phi',  range=[0,1]),\n",
    "    sherpa.Continuous(name='beta', range=[0.1,2]),\n",
    "    sherpa.Continuous(name='rho',  range=[0.2,1]),\n",
    "    sherpa.Continuous(name='delta',range=[0.01,1]),\n",
    "    sherpa.Continuous(name='gamma',range=[0.01,1]),\n",
    "    sherpa.Continuous(name='alpha',range=[0.01,1]),\n",
    "    sherpa.Continuous(name='mu',   range=[0.01,.7]),\n",
    "    sherpa.Continuous(name='p',    range=[0.01,.7]),\n",
    "    sherpa.Discrete  (name='q',    range=[0,30]),\n",
    "    sherpa.Continuous(name='r',    range=[0,0.01]),\n",
    "    sherpa.Discrete  (name='t0',    range=[0,20]),\n",
    "]\n",
    "algorithm = sherpa.algorithms.RandomSearch(max_num_trials=100)\n",
    "#algorithm = sherpa.algorithms.RandomSearch(max_num_trials=1000)\n",
    "#algorithm = sherpa.algorithms.GPyOpt(model_type='GP',max_num_trials=150)\n",
    "\n",
    "\n",
    "study = sherpa.Study(parameters=parameters,\n",
    "                     algorithm=algorithm,\n",
    "                     lower_is_better=True,\n",
    "                     disable_dashboard=True)\n",
    "\n",
    "trial = study.get_suggestion()\n",
    "trial.parameters"
   ]
  },
  {
   "cell_type": "code",
   "execution_count": 33,
   "metadata": {},
   "outputs": [
    {
     "ename": "NameError",
     "evalue": "name 'study' is not defined",
     "output_type": "error",
     "traceback": [
      "\u001b[0;31m---------------------------------------------------------------------------\u001b[0m",
      "\u001b[0;31mNameError\u001b[0m                                 Traceback (most recent call last)",
      "\u001b[0;32m<ipython-input-33-c065dcabe121>\u001b[0m in \u001b[0;36m<module>\u001b[0;34m()\u001b[0m\n\u001b[1;32m      1\u001b[0m \u001b[0mi\u001b[0m \u001b[0;34m=\u001b[0m \u001b[0mInteger\u001b[0m\u001b[0;34m(\u001b[0m\u001b[0;36m0\u001b[0m\u001b[0;34m)\u001b[0m\u001b[0;34m\u001b[0m\u001b[0;34m\u001b[0m\u001b[0m\n\u001b[1;32m      2\u001b[0m \u001b[0;34m\u001b[0m\u001b[0m\n\u001b[0;32m----> 3\u001b[0;31m \u001b[0;32mfor\u001b[0m \u001b[0mtrial\u001b[0m \u001b[0;32min\u001b[0m \u001b[0mstudy\u001b[0m\u001b[0;34m:\u001b[0m\u001b[0;34m\u001b[0m\u001b[0;34m\u001b[0m\u001b[0m\n\u001b[0m\u001b[1;32m      4\u001b[0m     \u001b[0mi\u001b[0m \u001b[0;34m+=\u001b[0m \u001b[0mInteger\u001b[0m\u001b[0;34m(\u001b[0m\u001b[0;36m1\u001b[0m\u001b[0;34m)\u001b[0m\u001b[0;34m\u001b[0m\u001b[0;34m\u001b[0m\u001b[0m\n\u001b[1;32m      5\u001b[0m     \u001b[0mprint\u001b[0m\u001b[0;34m(\u001b[0m\u001b[0;34mf\"{i} \"\u001b[0m\u001b[0;34m,\u001b[0m \u001b[0mend\u001b[0m\u001b[0;34m=\u001b[0m\u001b[0;34m\"\"\u001b[0m\u001b[0;34m)\u001b[0m\u001b[0;34m\u001b[0m\u001b[0;34m\u001b[0m\u001b[0m\n",
      "\u001b[0;31mNameError\u001b[0m: name 'study' is not defined"
     ]
    }
   ],
   "source": [
    "i = 0\n",
    "\n",
    "for trial in study:\n",
    "    i += 1\n",
    "    print(f\"{i} \", end=\"\")\n",
    "    \n",
    "    pars = [trial.parameters[n] for n in ['chi', 'phi', 'beta', 'rho', 'delta', 'gamma', 'alpha', 'mu', 'p', 'q', 'r']]\n",
    "    t0 = trial.parameters['t0']\n",
    "    O.ode_solve(tspan, inits, num_points=ld+t0+1, params=pars)\n",
    "    sim = get_sim_array(O.solution)\n",
    "    H = sim[t0 : ld + t0, 6] * popCA\n",
    "    M = sim[t0 : ld + t0, 7] * popCA\n",
    "    \n",
    "    #loss = sum((dfCA.cases - H)**2)\n",
    "    \n",
    "    loss = sum((dfCA.cases-H)**2) + sum((dfCA.deaths-M)**2)/2*ld\n",
    "    study.add_observation(trial=trial, objective=loss)\n",
    "    study.finalize(trial)"
   ]
  },
  {
   "cell_type": "code",
   "execution_count": 34,
   "metadata": {},
   "outputs": [
    {
     "ename": "NameError",
     "evalue": "name 'study' is not defined",
     "output_type": "error",
     "traceback": [
      "\u001b[0;31m---------------------------------------------------------------------------\u001b[0m",
      "\u001b[0;31mNameError\u001b[0m                                 Traceback (most recent call last)",
      "\u001b[0;32m<ipython-input-34-c380a7d7f72a>\u001b[0m in \u001b[0;36m<module>\u001b[0;34m()\u001b[0m\n\u001b[0;32m----> 1\u001b[0;31m \u001b[0mres\u001b[0m \u001b[0;34m=\u001b[0m \u001b[0mstudy\u001b[0m\u001b[0;34m.\u001b[0m\u001b[0mget_best_result\u001b[0m\u001b[0;34m(\u001b[0m\u001b[0;34m)\u001b[0m\u001b[0;34m\u001b[0m\u001b[0;34m\u001b[0m\u001b[0m\n\u001b[0m\u001b[1;32m      2\u001b[0m \u001b[0mres\u001b[0m\u001b[0;34m\u001b[0m\u001b[0;34m\u001b[0m\u001b[0m\n",
      "\u001b[0;31mNameError\u001b[0m: name 'study' is not defined"
     ]
    }
   ],
   "source": [
    "res = study.get_best_result()\n",
    "res"
   ]
  },
  {
   "cell_type": "code",
   "execution_count": 35,
   "metadata": {},
   "outputs": [],
   "source": [
    "def plot_results(pars):\n",
    "    t0 = pars[-1]\n",
    "    O.ode_solve(tspan, inits, num_points=t0+ld, params=list(pars[:-1]))\n",
    "    sim = get_sim_array(O.solution)*popCA\n",
    "    h   = list_plot(sim[:ld+t0,-2],color='red',legend_label='Cum. cases', plotjoined=True)\n",
    "    d   = list_plot(sim[:ld+t0,-1],color='purple', legend_label='Cum. Deaths', plotjoined=True)\n",
    "    cc  = list_plot(list(zip(range(t0,ld+t0),dfCA.cases)), color='black',legend_label='cases (obs)')\n",
    "    cd  = list_plot(list(zip(range(t0,ld+t0),dfCA.deaths)), color='orange',legend_label='deaths(obs)')\n",
    "    show(h + d + cc + cd)"
   ]
  },
  {
   "cell_type": "code",
   "execution_count": 36,
   "metadata": {},
   "outputs": [
    {
     "ename": "NameError",
     "evalue": "name 'res' is not defined",
     "output_type": "error",
     "traceback": [
      "\u001b[0;31m---------------------------------------------------------------------------\u001b[0m",
      "\u001b[0;31mNameError\u001b[0m                                 Traceback (most recent call last)",
      "\u001b[0;32m<ipython-input-36-141260779bb6>\u001b[0m in \u001b[0;36m<module>\u001b[0;34m()\u001b[0m\n\u001b[0;32m----> 1\u001b[0;31m plot_results([res['chi'],\n\u001b[0m\u001b[1;32m      2\u001b[0m               \u001b[0mres\u001b[0m\u001b[0;34m[\u001b[0m\u001b[0;34m'phi'\u001b[0m\u001b[0;34m]\u001b[0m\u001b[0;34m,\u001b[0m\u001b[0;34m\u001b[0m\u001b[0;34m\u001b[0m\u001b[0m\n\u001b[1;32m      3\u001b[0m               \u001b[0mres\u001b[0m\u001b[0;34m[\u001b[0m\u001b[0;34m'beta'\u001b[0m\u001b[0;34m]\u001b[0m\u001b[0;34m,\u001b[0m\u001b[0;34m\u001b[0m\u001b[0;34m\u001b[0m\u001b[0m\n\u001b[1;32m      4\u001b[0m               \u001b[0mres\u001b[0m\u001b[0;34m[\u001b[0m\u001b[0;34m'rho'\u001b[0m\u001b[0;34m]\u001b[0m\u001b[0;34m,\u001b[0m\u001b[0;34m\u001b[0m\u001b[0;34m\u001b[0m\u001b[0m\n\u001b[1;32m      5\u001b[0m               \u001b[0mres\u001b[0m\u001b[0;34m[\u001b[0m\u001b[0;34m'delta'\u001b[0m\u001b[0;34m]\u001b[0m\u001b[0;34m,\u001b[0m\u001b[0;34m\u001b[0m\u001b[0;34m\u001b[0m\u001b[0m\n",
      "\u001b[0;31mNameError\u001b[0m: name 'res' is not defined"
     ]
    }
   ],
   "source": [
    "plot_results([res['chi'],\n",
    "              res['phi'],\n",
    "              res['beta'],\n",
    "              res['rho'],\n",
    "              res['delta'],\n",
    "              res['gamma'],\n",
    "              res['alpha'],\n",
    "              res['mu'],\n",
    "              res['p'],\n",
    "              res['q'],\n",
    "              res['r'],\n",
    "              res['q']\n",
    "             ])"
   ]
  },
  {
   "cell_type": "code",
   "execution_count": 37,
   "metadata": {},
   "outputs": [
    {
     "ename": "NameError",
     "evalue": "name 'res' is not defined",
     "output_type": "error",
     "traceback": [
      "\u001b[0;31m---------------------------------------------------------------------------\u001b[0m",
      "\u001b[0;31mNameError\u001b[0m                                 Traceback (most recent call last)",
      "\u001b[0;32m<ipython-input-37-47152c80530c>\u001b[0m in \u001b[0;36m<module>\u001b[0;34m()\u001b[0m\n\u001b[0;32m----> 1\u001b[0;31m \u001b[0mprint\u001b[0m\u001b[0;34m(\u001b[0m\u001b[0mres\u001b[0m\u001b[0;34m[\u001b[0m\u001b[0;34m'q'\u001b[0m\u001b[0;34m]\u001b[0m\u001b[0;34m)\u001b[0m\u001b[0;34m\u001b[0m\u001b[0;34m\u001b[0m\u001b[0m\n\u001b[0m",
      "\u001b[0;31mNameError\u001b[0m: name 'res' is not defined"
     ]
    }
   ],
   "source": [
    "print(res['q'])"
   ]
  },
  {
   "cell_type": "code",
   "execution_count": null,
   "metadata": {},
   "outputs": [],
   "source": []
  }
 ],
 "metadata": {
  "kernelspec": {
   "display_name": "SageMath 9.1",
   "language": "sage",
   "name": "sagemath"
  },
  "language_info": {
   "codemirror_mode": {
    "name": "ipython",
    "version": 3
   },
   "file_extension": ".py",
   "mimetype": "text/x-python",
   "name": "python",
   "nbconvert_exporter": "python",
   "pygments_lexer": "ipython3",
   "version": "3.7.3"
  }
 },
 "nbformat": 4,
 "nbformat_minor": 4
}
